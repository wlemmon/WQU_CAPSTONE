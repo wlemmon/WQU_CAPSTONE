{
 "cells": [
  {
   "cell_type": "code",
   "execution_count": 11,
   "id": "4455e4f9",
   "metadata": {},
   "outputs": [],
   "source": [
    "import sys\n",
    "import importlib\n",
    "try:\n",
    "    importlib.reload(sys.modules['experiments'])\n",
    "except:\n",
    "    pass\n",
    "from experiments import *\n",
    "pd.set_option(\"display.precision\", 2)"
   ]
  },
  {
   "cell_type": "code",
   "execution_count": 2,
   "id": "a1c0c680",
   "metadata": {},
   "outputs": [],
   "source": [
    "pd.read_feather('hist_feather/NVCN')"
   ]
  },
  {
   "cell_type": "code",
   "execution_count": 3,
   "id": "76593715",
   "metadata": {},
   "outputs": [],
   "source": [
    "universe = prepare_universe()"
   ]
  },
  {
   "cell_type": "markdown",
   "id": "394e6082",
   "metadata": {},
   "source": [
    "## Statistics on the Universe of Stocks"
   ]
  },
  {
   "cell_type": "code",
   "execution_count": 4,
   "id": "5e55622f",
   "metadata": {},
   "outputs": [],
   "source": [
    "m2 = universe.copy()[['date', 'bm_quintile']]\n",
    "m2['count'] = 1\n",
    "pd.pivot_table(m2, columns=['bm_quintile'],index='date',aggfunc=\"sum\", margins=True)"
   ]
  },
  {
   "cell_type": "markdown",
   "id": "8d8ae720",
   "metadata": {},
   "source": [
    "# Table 1\n",
    "# Panel A\n",
    "## Statistics on High BM only stocks"
   ]
  },
  {
   "cell_type": "code",
   "execution_count": 5,
   "id": "2c5cb554",
   "metadata": {},
   "outputs": [],
   "source": [
    "styles = [dict(selector=\"caption\",\n",
    "               props=[\n",
    "                      (\"font-family\", \"Times New Roman\"),\n",
    "                      (\"text-align\", \"center\"),\n",
    "                      (\"font-size\", \"150%\"),\n",
    "                      (\"color\", 'black')\n",
    "                     ]),\n",
    "         dict(selector=\"td\",\n",
    "               props=[(\"font-family\", \"Times New Roman\")]),\n",
    "            dict(selector=\"th\",\n",
    "               props=[(\"font-family\", \"Times New Roman\")])\n",
    "         ]\n",
    "\n",
    "highbm = universe[universe.bm_quintile==4]\n",
    "caption = \"Financial and Return Characteristics of High Book-to-Market Firms\"\n",
    "highbm.describe(percentiles=[0.5]).T[['mean', 'std', '50%']].style.set_caption(caption).set_table_styles(styles).format('{:.2f}')"
   ]
  },
  {
   "cell_type": "code",
   "execution_count": 6,
   "id": "617dcf1a",
   "metadata": {},
   "outputs": [],
   "source": [
    "highbm.query('book == inf')"
   ]
  },
  {
   "cell_type": "markdown",
   "id": "a6131d4c",
   "metadata": {},
   "source": [
    "# Table 1\n",
    "# Panel B\n",
    "## Buy and Hold Returns from a High Book-to-Market Investment Strategy"
   ]
  },
  {
   "cell_type": "code",
   "execution_count": 7,
   "id": "897e5cce",
   "metadata": {},
   "outputs": [],
   "source": [
    "highbm.head()"
   ]
  },
  {
   "cell_type": "code",
   "execution_count": 8,
   "id": "57442b2f",
   "metadata": {},
   "outputs": [],
   "source": [
    "computeIndividualReturn('AAPL', '2022-01-01', '2023-01-01')"
   ]
  },
  {
   "cell_type": "code",
   "execution_count": 9,
   "id": "be8e008f",
   "metadata": {
    "scrolled": false
   },
   "outputs": [],
   "source": [
    "results = get_piotroski_experiment_results(highbm)\n",
    "len(results)"
   ]
  },
  {
   "cell_type": "code",
   "execution_count": null,
   "id": "9136249f",
   "metadata": {},
   "outputs": [],
   "source": [
    "results.head()"
   ]
  },
  {
   "cell_type": "code",
   "execution_count": null,
   "id": "482d77ae",
   "metadata": {},
   "outputs": [],
   "source": [
    "pd.to_datetime(results.start).dt.year < 1940"
   ]
  },
  {
   "cell_type": "code",
   "execution_count": null,
   "id": "84ceb071",
   "metadata": {
    "scrolled": false
   },
   "outputs": [],
   "source": [
    "display(results[(results.group == \"all\") &\n",
    "        (pd.to_datetime(results.start).dt.year < 2000)].drop(columns=['start', 'end', 'group', 'max', 'mean', 'p0', 'n']).mean().to_frame().T)\n",
    "display(results[(results.group == \"all\")].drop(columns=['start', 'end', 'group', 'mean', 'p0', 'n']).mean().to_frame().T)\n",
    "display(results[(results.group == \"all\") & (results.returns > 300)])"
   ]
  },
  {
   "cell_type": "code",
   "execution_count": null,
   "id": "fc8fd402",
   "metadata": {},
   "outputs": [],
   "source": [
    "run_piotroski_tests(results)"
   ]
  },
  {
   "cell_type": "code",
   "execution_count": null,
   "id": "fcddf25f",
   "metadata": {},
   "outputs": [],
   "source": []
  },
  {
   "cell_type": "code",
   "execution_count": null,
   "id": "8a6c4436",
   "metadata": {},
   "outputs": [],
   "source": []
  }
 ],
 "metadata": {
  "kernelspec": {
   "display_name": "Python 3 (ipykernel)",
   "language": "python",
   "name": "python3"
  },
  "language_info": {
   "codemirror_mode": {
    "name": "ipython",
    "version": 3
   },
   "file_extension": ".py",
   "mimetype": "text/x-python",
   "name": "python",
   "nbconvert_exporter": "python",
   "pygments_lexer": "ipython3",
   "version": "3.10.13"
  }
 },
 "nbformat": 4,
 "nbformat_minor": 5
}
